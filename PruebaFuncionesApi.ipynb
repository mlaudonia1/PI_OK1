{
 "cells": [
  {
   "cell_type": "code",
   "execution_count": 2,
   "metadata": {},
   "outputs": [
    {
     "data": {
      "text/html": [
       "<div>\n",
       "<style scoped>\n",
       "    .dataframe tbody tr th:only-of-type {\n",
       "        vertical-align: middle;\n",
       "    }\n",
       "\n",
       "    .dataframe tbody tr th {\n",
       "        vertical-align: top;\n",
       "    }\n",
       "\n",
       "    .dataframe thead th {\n",
       "        text-align: right;\n",
       "    }\n",
       "</style>\n",
       "<table border=\"1\" class=\"dataframe\">\n",
       "  <thead>\n",
       "    <tr style=\"text-align: right;\">\n",
       "      <th></th>\n",
       "      <th>budget</th>\n",
       "      <th>id_pelicula</th>\n",
       "      <th>original_language</th>\n",
       "      <th>overview</th>\n",
       "      <th>popularity</th>\n",
       "      <th>release_date</th>\n",
       "      <th>revenue</th>\n",
       "      <th>runtime</th>\n",
       "      <th>status</th>\n",
       "      <th>tagline</th>\n",
       "      <th>title</th>\n",
       "      <th>vote_average</th>\n",
       "      <th>vote_count</th>\n",
       "      <th>genres_ok</th>\n",
       "      <th>spoken_languages_ok</th>\n",
       "      <th>production_countries</th>\n",
       "      <th>belong_to_collection</th>\n",
       "      <th>production_companies_ok</th>\n",
       "      <th>release_year</th>\n",
       "      <th>return</th>\n",
       "    </tr>\n",
       "  </thead>\n",
       "  <tbody>\n",
       "    <tr>\n",
       "      <th>0</th>\n",
       "      <td>160000000.0</td>\n",
       "      <td>27205</td>\n",
       "      <td>en</td>\n",
       "      <td>Cobb, a skilled thief who commits corporate es...</td>\n",
       "      <td>29.108149</td>\n",
       "      <td>2010-07-14</td>\n",
       "      <td>8.255328e+08</td>\n",
       "      <td>148.0</td>\n",
       "      <td>Released</td>\n",
       "      <td>Your mind is the scene of the crime.</td>\n",
       "      <td>Inception</td>\n",
       "      <td>8.1</td>\n",
       "      <td>14075</td>\n",
       "      <td>Action,Thriller,Science Fiction,Mystery,Adventure</td>\n",
       "      <td>English</td>\n",
       "      <td>United Kingdom,United States of America</td>\n",
       "      <td>NaN</td>\n",
       "      <td>Legendary Pictures,Warner Bros.,Syncopy</td>\n",
       "      <td>2010</td>\n",
       "      <td>5.16</td>\n",
       "    </tr>\n",
       "    <tr>\n",
       "      <th>1</th>\n",
       "      <td>185000000.0</td>\n",
       "      <td>155</td>\n",
       "      <td>en</td>\n",
       "      <td>Batman raises the stakes in his war on crime. ...</td>\n",
       "      <td>123.167259</td>\n",
       "      <td>2008-07-16</td>\n",
       "      <td>1.004558e+09</td>\n",
       "      <td>152.0</td>\n",
       "      <td>Released</td>\n",
       "      <td>Why So Serious?</td>\n",
       "      <td>The Dark Knight</td>\n",
       "      <td>8.3</td>\n",
       "      <td>12269</td>\n",
       "      <td>Drama,Action,Crime,Thriller</td>\n",
       "      <td>English,普通话</td>\n",
       "      <td>United Kingdom,United States of America</td>\n",
       "      <td>The Dark Knight Collection</td>\n",
       "      <td>DC Comics,Legendary Pictures,Warner Bros.,DC E...</td>\n",
       "      <td>2008</td>\n",
       "      <td>5.43</td>\n",
       "    </tr>\n",
       "    <tr>\n",
       "      <th>2</th>\n",
       "      <td>237000000.0</td>\n",
       "      <td>19995</td>\n",
       "      <td>en</td>\n",
       "      <td>In the 22nd century, a paraplegic Marine is di...</td>\n",
       "      <td>185.070892</td>\n",
       "      <td>2009-12-10</td>\n",
       "      <td>2.787965e+09</td>\n",
       "      <td>162.0</td>\n",
       "      <td>Released</td>\n",
       "      <td>Enter the World of Pandora.</td>\n",
       "      <td>Avatar</td>\n",
       "      <td>7.2</td>\n",
       "      <td>12114</td>\n",
       "      <td>Action,Adventure,Fantasy,Science Fiction</td>\n",
       "      <td>English,Español</td>\n",
       "      <td>United Kingdom,United States of America</td>\n",
       "      <td>Avatar Collection</td>\n",
       "      <td>Ingenious Film Partners,Twentieth Century Fox ...</td>\n",
       "      <td>2009</td>\n",
       "      <td>11.76</td>\n",
       "    </tr>\n",
       "    <tr>\n",
       "      <th>3</th>\n",
       "      <td>220000000.0</td>\n",
       "      <td>24428</td>\n",
       "      <td>en</td>\n",
       "      <td>When an unexpected enemy emerges and threatens...</td>\n",
       "      <td>89.887648</td>\n",
       "      <td>2012-04-25</td>\n",
       "      <td>1.519558e+09</td>\n",
       "      <td>143.0</td>\n",
       "      <td>Released</td>\n",
       "      <td>Some assembly required.</td>\n",
       "      <td>The Avengers</td>\n",
       "      <td>7.4</td>\n",
       "      <td>12000</td>\n",
       "      <td>Science Fiction,Action,Adventure</td>\n",
       "      <td>English</td>\n",
       "      <td>United States of America</td>\n",
       "      <td>The Avengers Collection</td>\n",
       "      <td>Paramount Pictures,Marvel Studios</td>\n",
       "      <td>2012</td>\n",
       "      <td>6.91</td>\n",
       "    </tr>\n",
       "    <tr>\n",
       "      <th>4</th>\n",
       "      <td>58000000.0</td>\n",
       "      <td>293660</td>\n",
       "      <td>en</td>\n",
       "      <td>Deadpool tells the origin story of former Spec...</td>\n",
       "      <td>187.860492</td>\n",
       "      <td>2016-02-09</td>\n",
       "      <td>7.831130e+08</td>\n",
       "      <td>108.0</td>\n",
       "      <td>Released</td>\n",
       "      <td>Witness the beginning of a happy ending</td>\n",
       "      <td>Deadpool</td>\n",
       "      <td>7.4</td>\n",
       "      <td>11444</td>\n",
       "      <td>Action,Adventure,Comedy</td>\n",
       "      <td>English</td>\n",
       "      <td>United States of America</td>\n",
       "      <td>Deadpool Collection</td>\n",
       "      <td>Twentieth Century Fox Film Corporation,Marvel ...</td>\n",
       "      <td>2016</td>\n",
       "      <td>13.50</td>\n",
       "    </tr>\n",
       "  </tbody>\n",
       "</table>\n",
       "</div>"
      ],
      "text/plain": [
       "        budget id_pelicula original_language  \\\n",
       "0  160000000.0       27205                en   \n",
       "1  185000000.0         155                en   \n",
       "2  237000000.0       19995                en   \n",
       "3  220000000.0       24428                en   \n",
       "4   58000000.0      293660                en   \n",
       "\n",
       "                                            overview  popularity release_date  \\\n",
       "0  Cobb, a skilled thief who commits corporate es...   29.108149   2010-07-14   \n",
       "1  Batman raises the stakes in his war on crime. ...  123.167259   2008-07-16   \n",
       "2  In the 22nd century, a paraplegic Marine is di...  185.070892   2009-12-10   \n",
       "3  When an unexpected enemy emerges and threatens...   89.887648   2012-04-25   \n",
       "4  Deadpool tells the origin story of former Spec...  187.860492   2016-02-09   \n",
       "\n",
       "        revenue  runtime    status                                  tagline  \\\n",
       "0  8.255328e+08    148.0  Released     Your mind is the scene of the crime.   \n",
       "1  1.004558e+09    152.0  Released                          Why So Serious?   \n",
       "2  2.787965e+09    162.0  Released              Enter the World of Pandora.   \n",
       "3  1.519558e+09    143.0  Released                  Some assembly required.   \n",
       "4  7.831130e+08    108.0  Released  Witness the beginning of a happy ending   \n",
       "\n",
       "             title  vote_average  vote_count  \\\n",
       "0        Inception           8.1       14075   \n",
       "1  The Dark Knight           8.3       12269   \n",
       "2           Avatar           7.2       12114   \n",
       "3     The Avengers           7.4       12000   \n",
       "4         Deadpool           7.4       11444   \n",
       "\n",
       "                                           genres_ok spoken_languages_ok  \\\n",
       "0  Action,Thriller,Science Fiction,Mystery,Adventure             English   \n",
       "1                        Drama,Action,Crime,Thriller         English,普通话   \n",
       "2           Action,Adventure,Fantasy,Science Fiction     English,Español   \n",
       "3                   Science Fiction,Action,Adventure             English   \n",
       "4                            Action,Adventure,Comedy             English   \n",
       "\n",
       "                      production_countries        belong_to_collection  \\\n",
       "0  United Kingdom,United States of America                         NaN   \n",
       "1  United Kingdom,United States of America  The Dark Knight Collection   \n",
       "2  United Kingdom,United States of America           Avatar Collection   \n",
       "3                 United States of America     The Avengers Collection   \n",
       "4                 United States of America         Deadpool Collection   \n",
       "\n",
       "                             production_companies_ok  release_year  return  \n",
       "0            Legendary Pictures,Warner Bros.,Syncopy          2010    5.16  \n",
       "1  DC Comics,Legendary Pictures,Warner Bros.,DC E...          2008    5.43  \n",
       "2  Ingenious Film Partners,Twentieth Century Fox ...          2009   11.76  \n",
       "3                  Paramount Pictures,Marvel Studios          2012    6.91  \n",
       "4  Twentieth Century Fox Film Corporation,Marvel ...          2016   13.50  "
      ]
     },
     "execution_count": 2,
     "metadata": {},
     "output_type": "execute_result"
    }
   ],
   "source": [
    "#Realizamos la prueba de algunas funciones de la API segun la consigna en el proceso de ETL\n",
    "import pandas as pd\n",
    "\n",
    "\n",
    "\n",
    "data_types = {\n",
    "    'budget': float,\n",
    "    'id_pelicula': str,\n",
    "    'original_language': str,\n",
    "    'overview': str,\n",
    "    'popularity': str,\n",
    "    \n",
    "    'revenue': float,\n",
    "    'runtime': float,\n",
    "    'status': str,\n",
    "    'tagline': str,\n",
    "    'title': str,\n",
    "    'vote_average': float,\n",
    "    'vote_count': 'Int32',  # Utiliza 'Int32' para un entero nullable\n",
    "    'genres_ok': str,\n",
    "    'spoken_languages_ok': str,\n",
    "    'production_countries': str,\n",
    "    'belong_to_collection': str,\n",
    "    'production_companies_ok': str,\n",
    "    'return': float,\n",
    "    'release_year': 'Int64'  # Utiliza 'Int64' para un entero nullable\n",
    "}\n",
    "\n",
    "\n",
    "\n",
    "votadas_df = pd.read_csv('votadas_df.csv', dtype=data_types, low_memory=False)\n",
    "\n",
    "# Visualizar el contenido del DataFrame. \n",
    "votadas_df.head()\n",
    "\n"
   ]
  },
  {
   "cell_type": "code",
   "execution_count": 3,
   "metadata": {},
   "outputs": [],
   "source": [
    "def peliculas_duracion(pelicula: str):\n",
    "    '''Ingresas la película, retornando la duración y el año'''\n",
    "    pelicula_data = votadas_df[votadas_df['title'] == pelicula]\n",
    "    if pelicula_data.empty:\n",
    "        return {'error': 'Película no encontrada'}\n",
    "    else:\n",
    "        \n",
    "        duracion = pelicula_data['runtime'].iloc[0]\n",
    "        anio = pelicula_data['release_year'].iloc[0]\n",
    "\n",
    "     \n",
    "\n",
    "        return {'pelicula': pelicula, 'duracion': duracion, 'anio': anio}\n"
   ]
  },
  {
   "cell_type": "code",
   "execution_count": 4,
   "metadata": {},
   "outputs": [
    {
     "data": {
      "text/plain": [
       "{'pelicula': 'Toy Story', 'duracion': 81.0, 'anio': 1995}"
      ]
     },
     "execution_count": 4,
     "metadata": {},
     "output_type": "execute_result"
    }
   ],
   "source": [
    "peliculas_duracion(\"Toy Story\")"
   ]
  },
  {
   "cell_type": "code",
   "execution_count": 5,
   "metadata": {},
   "outputs": [],
   "source": [
    "\n",
    "def peliculas_pais(pais: str):\n",
    "    '''Se ingresa un país, retornando la cantidad de películas producidas en el mismo.'''\n",
    "    try:\n",
    "        # Un ejemplo simple de mapeo de palabras clave a nombres de países\n",
    "        country_mapping = {\n",
    "        'United States':'United States of America',\n",
    "        'eeuu': 'United States of America',\n",
    "        'usa': 'United States of America',\n",
    "        'francia': 'France',\n",
    "        'Francia': 'France',\n",
    "        'alemania': 'Germany',\n",
    "        'Alemania': 'Germany',\n",
    "        'UK': 'United Kingdom',\n",
    "    # Agrega más mapeos aquí según tus necesidades\n",
    "}           \n",
    "        # Busca en el mapeo de países y obtén el nombre completo del país\n",
    "        full_country_name = country_mapping.get(pais.lower(), pais)\n",
    "        \n",
    "        cantidad_peliculas = votadas_df[votadas_df['production_countries'].str.contains(full_country_name, case=False)].shape[0]\n",
    "        return {'pais': full_country_name, 'cantidad': cantidad_peliculas}\n",
    "    except Exception as e:\n",
    "        return {'error': 'Ocurrió un error al procesar la solicitud', 'detalle': str(e)}"
   ]
  },
  {
   "cell_type": "code",
   "execution_count": 6,
   "metadata": {},
   "outputs": [
    {
     "data": {
      "text/plain": [
       "budget                     False\n",
       "id_pelicula                False\n",
       "original_language          False\n",
       "overview                    True\n",
       "popularity                 False\n",
       "release_date               False\n",
       "revenue                    False\n",
       "runtime                    False\n",
       "status                     False\n",
       "tagline                     True\n",
       "title                      False\n",
       "vote_average               False\n",
       "vote_count                 False\n",
       "genres_ok                   True\n",
       "spoken_languages_ok         True\n",
       "production_countries        True\n",
       "belong_to_collection        True\n",
       "production_companies_ok     True\n",
       "release_year               False\n",
       "return                     False\n",
       "dtype: bool"
      ]
     },
     "execution_count": 6,
     "metadata": {},
     "output_type": "execute_result"
    }
   ],
   "source": [
    "votadas_df.isna().any()"
   ]
  },
  {
   "cell_type": "code",
   "execution_count": 7,
   "metadata": {},
   "outputs": [],
   "source": [
    "# Reemplazar valores nulos en columnas seleccionadas con un valor predeterminado (por ejemplo, \"\")\n",
    "columns_to_fill = ['overview', 'tagline', 'genres_ok', 'spoken_languages_ok', 'production_countries', 'production_companies_ok', 'belong_to_collection']\n",
    "votadas_df[columns_to_fill] = votadas_df[columns_to_fill].fillna(\"\")"
   ]
  },
  {
   "cell_type": "code",
   "execution_count": 8,
   "metadata": {},
   "outputs": [
    {
     "data": {
      "text/plain": [
       "budget                     False\n",
       "id_pelicula                False\n",
       "original_language          False\n",
       "overview                   False\n",
       "popularity                 False\n",
       "release_date               False\n",
       "revenue                    False\n",
       "runtime                    False\n",
       "status                     False\n",
       "tagline                    False\n",
       "title                      False\n",
       "vote_average               False\n",
       "vote_count                 False\n",
       "genres_ok                  False\n",
       "spoken_languages_ok        False\n",
       "production_countries       False\n",
       "belong_to_collection       False\n",
       "production_companies_ok    False\n",
       "release_year               False\n",
       "return                     False\n",
       "dtype: bool"
      ]
     },
     "execution_count": 8,
     "metadata": {},
     "output_type": "execute_result"
    }
   ],
   "source": [
    "votadas_df.isna().any()"
   ]
  },
  {
   "cell_type": "code",
   "execution_count": 20,
   "metadata": {},
   "outputs": [],
   "source": [
    "votadas_df.to_csv('votadas_df.csv', index=False)"
   ]
  },
  {
   "cell_type": "code",
   "execution_count": 10,
   "metadata": {},
   "outputs": [
    {
     "data": {
      "text/plain": [
       "{'pais': 'United States', 'cantidad': 4043}"
      ]
     },
     "execution_count": 10,
     "metadata": {},
     "output_type": "execute_result"
    }
   ],
   "source": [
    "peliculas_pais(\"United States\")"
   ]
  },
  {
   "cell_type": "code",
   "execution_count": 11,
   "metadata": {},
   "outputs": [],
   "source": [
    "# Función para obtener el revenue total y la cantidad de películas de una productora específica\n",
    "\n",
    "def productoras_exitosas(productora: str):\n",
    "    '''Se ingresa una productora, entregando el revenue total y la cantidad de películas que realizó.'''\n",
    "    try:\n",
    "        productora_data = votadas_df[votadas_df['production_companies_ok'].str.contains(productora, case=False)]\n",
    "        if productora_data.empty:\n",
    "            return {'error': 'Productora no encontrada'}\n",
    "        \n",
    "        revenue_total = productora_data['revenue'].sum()\n",
    "        cantidad_peliculas = productora_data.shape[0]\n",
    "        \n",
    "        return {\n",
    "            'productora': productora,\n",
    "            'revenue_total': revenue_total,\n",
    "            'cantidad_peliculas': cantidad_peliculas\n",
    "        }\n",
    "    except Exception as e:\n",
    "        return {'error': 'Ocurrió un error al procesar la solicitud', 'detalle': str(e)}\n"
   ]
  },
  {
   "cell_type": "code",
   "execution_count": 12,
   "metadata": {},
   "outputs": [
    {
     "data": {
      "text/plain": [
       "{'productora': 'Pixar Animation Studios',\n",
       " 'revenue_total': 11188533734.0,\n",
       " 'cantidad_peliculas': 36}"
      ]
     },
     "execution_count": 12,
     "metadata": {},
     "output_type": "execute_result"
    }
   ],
   "source": [
    "productoras_exitosas(\"Pixar Animation Studios\")"
   ]
  }
 ],
 "metadata": {
  "kernelspec": {
   "display_name": "Python 3",
   "language": "python",
   "name": "python3"
  },
  "language_info": {
   "codemirror_mode": {
    "name": "ipython",
    "version": 3
   },
   "file_extension": ".py",
   "mimetype": "text/x-python",
   "name": "python",
   "nbconvert_exporter": "python",
   "pygments_lexer": "ipython3",
   "version": "3.11.4"
  },
  "orig_nbformat": 4
 },
 "nbformat": 4,
 "nbformat_minor": 2
}
